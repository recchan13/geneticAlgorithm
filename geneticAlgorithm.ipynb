{
 "cells": [
  {
   "cell_type": "code",
   "execution_count": 1,
   "metadata": {},
   "outputs": [
    {
     "name": "stdout",
     "output_type": "stream",
     "text": [
      "                Nama   strength  skill  speed  total\n",
      "0        Keylor Navas        80     76     54    210\n",
      "1       Dani Carvajal        80     64     69    213\n",
      "2        Éder Militão        58     54     66    178\n",
      "3        Sergio Ramos        92     62     76    230\n",
      "4      Raphaël Varane        51     53     57    161\n",
      "5               Nacho        91     76     53    220\n",
      "6         Eden Hazard        62     93     65    220\n",
      "7          Toni Kroos        64     77     80    221\n",
      "8       Karim Benzema        97     90     60    247\n",
      "9         Luka Modric        64     66     96    226\n",
      "10        Gareth Bale        64     59     59    182\n",
      "11            Marcelo        71     66     61    198\n",
      "12   Thibaut Courtois        56     58     93    207\n",
      "13           Casemiro        62     98     98    258\n",
      "14  Federico Valverde        91     68     88    247\n",
      "15    James Rodríguez        83     75     78    236\n",
      "16      Lucas Vázquez        64     74     93    231\n",
      "17         Luka Jovic        94     50     99    243\n",
      "18   Álvaro Odriozola        95     56     67    218\n",
      "19      Marco Asensio        65     90     74    229\n",
      "20        Brahim Díaz        91     85     81    257\n",
      "21               Isco        87     56     74    217\n",
      "22      Ferland Mendy        89     68     96    253\n",
      "23            Mariano        95     59     87    241\n",
      "24            Rodrygo        58     95     62    215\n",
      "25    Vinícius Júnior        87     53     85    225\n",
      "26     Reza Octaviany        88     90     70    248\n"
     ]
    }
   ],
   "source": [
    "import pandas as pd\n",
    "\n",
    "# load data ke program\n",
    "pemain = pd.read_csv(\"pemainFutsal.csv\")\n",
    "print (pemain)"
   ]
  },
  {
   "cell_type": "code",
   "execution_count": 2,
   "metadata": {},
   "outputs": [
    {
     "name": "stdout",
     "output_type": "stream",
     "text": [
      "banyak data : 27\n"
     ]
    }
   ],
   "source": [
    "#get banyak baris\n",
    "data=len(pemain)\n",
    "print(\"banyak data :\",data)"
   ]
  },
  {
   "cell_type": "code",
   "execution_count": 3,
   "metadata": {},
   "outputs": [
    {
     "name": "stdout",
     "output_type": "stream",
     "text": [
      "data sisa : 2\n",
      "banyak tim : 5\n"
     ]
    }
   ],
   "source": [
    "#get banyak gen yang akan jadi parent\n",
    "sisa=data%5\n",
    "team=int(data/5)\n",
    "\n",
    "print(\"data sisa :\",sisa)\n",
    "print(\"banyak tim :\",team)"
   ]
  },
  {
   "cell_type": "code",
   "execution_count": 4,
   "metadata": {},
   "outputs": [
    {
     "name": "stdout",
     "output_type": "stream",
     "text": [
      "Rata-rata kekuatan :  223\n"
     ]
    }
   ],
   "source": [
    "# get average\n",
    "sum=0\n",
    "for i in range (data):\n",
    "    sum=sum+pemain.loc[i,\"total\"]\n",
    "\n",
    "# avg adalah fitness function\n",
    "avg=int(sum/data)\n",
    "print (\"Rata-rata kekuatan : \", avg)"
   ]
  },
  {
   "cell_type": "code",
   "execution_count": 5,
   "metadata": {},
   "outputs": [
    {
     "name": "stdout",
     "output_type": "stream",
     "text": [
      "Random Parents generate :\n",
      "[22, 3, 9, 15, 4, 10, 2, 21, 24, 18, 16, 0, 5, 8, 1, 26, 17, 13, 19, 11, 23, 14, 20, 12, 25, 6, 7]\n"
     ]
    }
   ],
   "source": [
    "# ambil parent secara random\n",
    "import random\n",
    "\n",
    "randParents=[]\n",
    "def randParent():\n",
    "    print(\"Random Parents generate :\")\n",
    "    return(random.sample(range(0,data), data))\n",
    "\n",
    "randParents=randParent()\n",
    "print(randParents)"
   ]
  },
  {
   "cell_type": "code",
   "execution_count": 6,
   "metadata": {},
   "outputs": [
    {
     "name": "stdout",
     "output_type": "stream",
     "text": [
      "Parent Sisa : [7, 6]\n"
     ]
    }
   ],
   "source": [
    "# sisakan parent yang tidak masuk dalam list\n",
    "unlistedParent=[]\n",
    "\n",
    "def unlistParent():\n",
    "    for x in range(sisa):\n",
    "        unlistedParent.append(randParents[data-x-1])\n",
    "    return(unlistedParent)\n",
    "\n",
    "unlistedParent=unlistParent()\n",
    "print(\"Parent Sisa :\", unlistedParent)"
   ]
  },
  {
   "cell_type": "code",
   "execution_count": 7,
   "metadata": {},
   "outputs": [
    {
     "name": "stdout",
     "output_type": "stream",
     "text": [
      "Gen : [[253, 230, 226, 236, 161], [182, 178, 217, 215, 218], [231, 210, 220, 247, 213], [248, 243, 258, 229, 198], [241, 247, 257, 207, 225]]\n"
     ]
    }
   ],
   "source": [
    "# buat array pemain dengan urutan parent random\n",
    "def gen():\n",
    "    urut=0\n",
    "    genes = []\n",
    "    \n",
    "    for i in range(team):\n",
    "        row=[]\n",
    "        for j in range(5):\n",
    "            row.append(pemain.loc[randParents[urut],\"total\"])\n",
    "            urut=urut+1\n",
    "        genes.append(row)\n",
    "    return (genes)\n",
    "\n",
    "gens=gen()\n",
    "print(\"Gen :\", gens)"
   ]
  },
  {
   "cell_type": "code",
   "execution_count": 8,
   "metadata": {},
   "outputs": [
    {
     "name": "stdout",
     "output_type": "stream",
     "text": [
      "Rata-rata gen : [221.2, 202.0, 224.2, 235.2, 235.4]\n"
     ]
    }
   ],
   "source": [
    "# kemudian cari rata-rata kekuatannya\n",
    "def average():\n",
    "    urut=0\n",
    "    total=0\n",
    "    average = []\n",
    "    \n",
    "    for i in range(team):\n",
    "        for j in range(5):\n",
    "            total = total + (pemain.loc[randParents[urut],\"total\"])\n",
    "            urut=urut+1\n",
    "        average.append(total/5)\n",
    "        total=0\n",
    "    return (average)\n",
    "\n",
    "averages=average()\n",
    "print(\"Rata-rata gen :\", averages)"
   ]
  },
  {
   "cell_type": "code",
   "execution_count": 9,
   "metadata": {},
   "outputs": [
    {
     "name": "stdout",
     "output_type": "stream",
     "text": [
      "selisih : [1.8, 21.0, 1.2, 12.2, 12.4]\n"
     ]
    }
   ],
   "source": [
    "# Mencari selisih antara rata-rata kekuatan total dg rata-rata kekuatan parent\n",
    "def selisih():\n",
    "    selisih = []\n",
    "\n",
    "    for i in range(team):\n",
    "        if (averages[i] >= avg):\n",
    "            selisih.append(round(averages[i]-avg,2))\n",
    "        else:\n",
    "            selisih.append(round(avg-averages[i],2))\n",
    "    return(selisih)\n",
    "\n",
    "selisihAvg=selisih()\n",
    "print(\"selisih :\", selisihAvg)"
   ]
  },
  {
   "cell_type": "code",
   "execution_count": 10,
   "metadata": {},
   "outputs": [
    {
     "name": "stdout",
     "output_type": "stream",
     "text": [
      "max : 21.0 dan 12.4\n",
      "id : 1 dan 4\n"
     ]
    }
   ],
   "source": [
    "# titik iterasi\n",
    "def function1():\n",
    "    max1=0\n",
    "    max2=0\n",
    "    idMax1=0\n",
    "    idMax2=0\n",
    "    # cari parents dengan selisih terbesar\n",
    "    for i in range (team):\n",
    "        if (selisihAvg[i]>=max1):\n",
    "            max2=max1\n",
    "            max1=selisihAvg[i]\n",
    "            idMax2=idMax1\n",
    "            idMax1=i\n",
    "        elif (selisihAvg[i]>=max2):\n",
    "            max2=selisihAvg[i]\n",
    "            idMax2=i\n",
    "    return (max1,max2,idMax1,idMax2)\n",
    "\n",
    "max1,max2,idMax1,idMax2=function1()\n",
    "print(\"max :\",max1,\"dan\",max2)\n",
    "print(\"id :\",idMax1,\"dan\",idMax2)"
   ]
  },
  {
   "cell_type": "code",
   "execution_count": 11,
   "metadata": {},
   "outputs": [
    {
     "name": "stdout",
     "output_type": "stream",
     "text": [
      "child : [[182, 178, 217, 207, 225], [241, 247, 257, 215, 218]]\n",
      "idChild : [[10, 2, 21, 12, 25], [23, 14, 20, 24, 18]]\n"
     ]
    }
   ],
   "source": [
    "# crossover 2 parents paling jauh dengan fitness function\n",
    "def function2():\n",
    "    child = []\n",
    "    idChild = []\n",
    "    \n",
    "    for i in range(2):\n",
    "        childs=[]\n",
    "        idChilds = []\n",
    "        if (i==0):\n",
    "            for j in range(5):\n",
    "                if (j<3):\n",
    "                    childs.append(gens[idMax1][j])\n",
    "                    idChilds.append(randParents[(idMax1*5)+j])\n",
    "                else:\n",
    "                    childs.append(gens[idMax2][j])\n",
    "                    idChilds.append(randParents[(idMax2*5)+j])\n",
    "            child.append(childs)\n",
    "            idChild.append(idChilds)\n",
    "        else:\n",
    "            for j in range(5):\n",
    "                if (j<3):\n",
    "                    childs.append(gens[idMax2][j])\n",
    "                    idChilds.append(randParents[(idMax2*5)+j])\n",
    "                else:\n",
    "                    childs.append(gens[idMax1][j])\n",
    "                    idChilds.append(randParents[(idMax1*5)+j])\n",
    "            child.append(childs)\n",
    "            idChild.append(idChilds)\n",
    "    return(child,idChild)\n",
    "\n",
    "child,idChild=function2()\n",
    "print(\"child :\", child)\n",
    "print(\"idChild :\", idChild)"
   ]
  },
  {
   "cell_type": "code",
   "execution_count": 12,
   "metadata": {},
   "outputs": [
    {
     "name": "stdout",
     "output_type": "stream",
     "text": [
      "child : [[182, 221, 217, 207, 225], [241, 178, 257, 215, 218]]\n",
      "idChild : [[10, 7, 21, 12, 25], [23, 2, 20, 24, 18]]\n",
      "temp : 14\n"
     ]
    }
   ],
   "source": [
    "# mutasi child baru\n",
    "def mutasi():\n",
    "    # angka random untuk gen ke-angka yang akan dimutasi\n",
    "    \n",
    "    angkaParent=[]\n",
    "    \n",
    "    angka = random.sample(range(0,5),1)\n",
    "    angkaParent = random.sample(range(0,len(unlistedParent)),1)\n",
    "\n",
    "#     print(\"DNA yang akan dimutasi DNA ke\", angka[0])\n",
    "#     print(\"DNA akan menjadi DNA unlisted parent ke\", angkaParent[0])\n",
    "\n",
    "    # penerapan mutasi\n",
    "    a = unlistedParent[angkaParent[0]]\n",
    "    tempIdCh=idChild[1][angka[0]]\n",
    "    \n",
    "\n",
    "    child[1][angka[0]]=child[0][angka[0]]\n",
    "    idChild[1][angka[0]]=idChild[0][angka[0]]\n",
    "\n",
    "    child[0][angka[0]]=pemain.loc[a,\"total\"]\n",
    "    idChild[0][angka[0]]=unlistedParent[angkaParent[0]]\n",
    "    \n",
    "    angka=[]\n",
    "    \n",
    "    return(child, idChild,tempIdCh,angkaParent)\n",
    "\n",
    "child,idChild,tempIdCh,angkaParent=mutasi()\n",
    "print(\"child :\", child)\n",
    "print(\"idChild :\", idChild)\n",
    "print(\"temp :\", tempIdCh)"
   ]
  },
  {
   "cell_type": "code",
   "execution_count": 13,
   "metadata": {},
   "outputs": [
    {
     "name": "stdout",
     "output_type": "stream",
     "text": [
      "rata-rata child : [210.4, 263.88]\n",
      "selisih child: [12.6, 40.88]\n"
     ]
    }
   ],
   "source": [
    "def rataChild():\n",
    "    # menghitung rata-rata kekuatan child\n",
    "    a=0\n",
    "    averageChild = []\n",
    "\n",
    "    for i in range (2):\n",
    "        for j in range (5):\n",
    "            a=a+child[i][j]\n",
    "        a=a/5\n",
    "        averageChild.append(round(a,2))\n",
    "\n",
    "    return(averageChild)\n",
    "\n",
    "def selisihChilds():\n",
    "    # selisih avg dengan averageChild\n",
    "    selisihChild = []\n",
    "    for i in range(2):\n",
    "        if (averageChild[i] >= avg):\n",
    "            selisihChild.append(round(averageChild[i]-avg,2))\n",
    "        else:\n",
    "            selisihChild.append(round(avg-averageChild[i],2))\n",
    "\n",
    "    return(selisihChild)\n",
    "\n",
    "averageChild=rataChild()\n",
    "selisihChild=selisihChilds()\n",
    "\n",
    "print(\"rata-rata child :\", averageChild)\n",
    "print(\"selisih child:\", selisihChild)"
   ]
  },
  {
   "cell_type": "code",
   "execution_count": 14,
   "metadata": {},
   "outputs": [
    {
     "name": "stdout",
     "output_type": "stream",
     "text": [
      "53.480000000000004 : 33.4\n",
      "[7, 6]\n",
      "Parent Baru : [[253, 230, 226, 236, 161], [182, 178, 217, 215, 218], [231, 210, 220, 247, 213], [248, 243, 258, 229, 198], [241, 247, 257, 207, 225]]\n"
     ]
    }
   ],
   "source": [
    "def newParent():\n",
    "    # bandingkan dengan parent nya \n",
    "    jumlahChild = selisihChild[0]+selisihChild[1]\n",
    "    jumlahParent = max1+max2\n",
    "    \n",
    "    print (jumlahChild, \":\", jumlahParent)\n",
    "    \n",
    "    if (jumlahChild <= jumlahParent):\n",
    "        unlistedParent[angkaParent[0]]=tempIdCh\n",
    "\n",
    "        gens[idMax1]=child[0]\n",
    "        gens[idMax2]=child[1]\n",
    "    \n",
    "    # balikan nilai-nilai child ke kosong\n",
    "    anak=[]\n",
    "    anaks=[]\n",
    "    idAnak=[]\n",
    "    idAnaks=[]\n",
    "    return(anak,anaks,idAnak,idAnaks)\n",
    "    \n",
    "child,childs,idChild,idChilds=newParent()\n",
    "print (unlistedParent)\n",
    "print(\"Parent Baru :\", gens)"
   ]
  },
  {
   "cell_type": "code",
   "execution_count": 15,
   "metadata": {},
   "outputs": [
    {
     "name": "stdout",
     "output_type": "stream",
     "text": [
      "Rata-rata gen : [221.2, 202.0, 224.2, 235.2, 235.4]\n"
     ]
    }
   ],
   "source": [
    "def rataNew():\n",
    "    # cari rata-rata kekuatannya\n",
    "    total=0\n",
    "    average = []\n",
    "    for i in range(team):\n",
    "        for j in range(5):\n",
    "            total = total + (gens[i][j])\n",
    "        average.append(total/5)\n",
    "        total=0\n",
    "    return(average)\n",
    "\n",
    "averages=rataNew()\n",
    "print(\"Rata-rata gen :\", averages)"
   ]
  },
  {
   "cell_type": "code",
   "execution_count": 16,
   "metadata": {},
   "outputs": [
    {
     "name": "stdout",
     "output_type": "stream",
     "text": [
      "selisih gen : [1.8, 21.0, 1.2, 12.2, 12.4]\n"
     ]
    }
   ],
   "source": [
    "def selisihNew():\n",
    "    # Mencari selisih antara rata-rata kekuatan total dg rata-rata kekuatan parent\n",
    "    selisih = []\n",
    "\n",
    "    for i in range(team):\n",
    "        if (averages[i] >= avg):\n",
    "            selisih.append(round(averages[i]-avg,2))\n",
    "        else:\n",
    "            selisih.append(round(avg-averages[i],2))\n",
    "\n",
    "    return(selisih)\n",
    "    \n",
    "selisihAvg=selisihNew()\n",
    "print(\"selisih gen :\", selisihAvg)"
   ]
  },
  {
   "cell_type": "code",
   "execution_count": 17,
   "metadata": {},
   "outputs": [
    {
     "name": "stdout",
     "output_type": "stream",
     "text": [
      "True\n"
     ]
    }
   ],
   "source": [
    "#cek apakah akan diiterasi atau tidak\n",
    "def boolIterasi():\n",
    "    for i in range (team):\n",
    "        if(selisihAvg[i]>10):\n",
    "            return True\n",
    "    return False\n",
    "        \n",
    "print(boolIterasi())"
   ]
  },
  {
   "cell_type": "code",
   "execution_count": 19,
   "metadata": {},
   "outputs": [],
   "source": [
    "#optimasi"
   ]
  },
  {
   "cell_type": "code",
   "execution_count": null,
   "metadata": {},
   "outputs": [],
   "source": [
    "#iterasi\n",
    "\n",
    "hitung=0\n",
    "print(\"Iterasi ke-\",hitung)\n",
    "while (boolIterasi()):\n",
    "    function1()\n",
    "    max1,max2,idMax1,idMax2=function1()\n",
    "\n",
    "    function2()\n",
    "    child,idChild=function2()\n",
    "\n",
    "    mutasi()\n",
    "    child,idChild,tempIdCh,angkaParent=mutasi()\n",
    "\n",
    "    rataChild()\n",
    "    averageChild=rataChild()\n",
    "\n",
    "    selisihChilds()\n",
    "    selisihChild=selisihChilds()\n",
    "\n",
    "    newParent()\n",
    "    child,childs,idChild,idChilds=newParent()\n",
    "\n",
    "    rataNew()\n",
    "    averages=rataNew()\n",
    "\n",
    "    selisihNew()\n",
    "    selisihAvg=selisihNew()\n",
    "\n",
    "    hitung=hitung+1\n",
    "    print(\"Iterasi ke-\",hitung)\n",
    "    print(\"\\n\")\n"
   ]
  }
 ],
 "metadata": {
  "kernelspec": {
   "display_name": "Python 3",
   "language": "python",
   "name": "python3"
  },
  "language_info": {
   "codemirror_mode": {
    "name": "ipython",
    "version": 3
   },
   "file_extension": ".py",
   "mimetype": "text/x-python",
   "name": "python",
   "nbconvert_exporter": "python",
   "pygments_lexer": "ipython3",
   "version": "3.7.4"
  }
 },
 "nbformat": 4,
 "nbformat_minor": 2
}
